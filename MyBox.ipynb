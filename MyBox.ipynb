{
 "cells": [
  {
   "cell_type": "markdown",
   "metadata": {},
   "source": [
    "# Box.com API for downloading files\n"
   ]
  },
  {
   "cell_type": "code",
   "execution_count": null,
   "metadata": {},
   "outputs": [],
   "source": [
    "# install box API package\n",
    "#!pip install boxsdk\n",
    "\n",
    "# install extra extension for JWT functions\n",
    "#!pip install \"boxsdk[jwt]\"\n",
    "\n",
    "# other packages installed in box.com Python SDK example\n",
    "# not necessary for this Instruction\n",
    "#!pip install pyjwt cryptography requests"
   ]
  },
  {
   "cell_type": "code",
   "execution_count": null,
   "metadata": {},
   "outputs": [],
   "source": [
    "from boxsdk import OAuth2, Client\n",
    "from boxsdk.auth.ccg_auth import CCGAuth"
   ]
  },
  {
   "cell_type": "markdown",
   "metadata": {},
   "source": [
    "# Client Credentials Grant"
   ]
  },
  {
   "attachments": {},
   "cell_type": "markdown",
   "metadata": {},
   "source": [
    "## 1. Create a custom app with Client Credentials Grant\n",
    "<img src=\"./AppSetup/CustomAppwithCCG.PNG\" alt=\"CustomAppwithCCG\" width=\"400\"/>"
   ]
  },
  {
   "cell_type": "markdown",
   "metadata": {},
   "source": [
    "## 2. Retreive client id, client secret\n",
    "<img src=\"./AppSetup/UserIDandEnterpriseID.PNG\" alt=\"UserIDandEnterpriseID\" width=\"500\"/>"
   ]
  },
  {
   "cell_type": "markdown",
   "metadata": {},
   "source": [
    "## 3. Get Developer Token\n",
    "The developer token is valid for 1 hrs only.\n",
    "<img src=\"./AppSetup/DeveloperToken.PNG\" alt=\"DeveloperToken\" width=\"500\"/>"
   ]
  },
  {
   "cell_type": "code",
   "execution_count": null,
   "metadata": {},
   "outputs": [],
   "source": [
    "# Create an authentication based on OAuth 2.0 with Client Credentials Grant (Server Authentication)\n",
    "oauth = OAuth2(\n",
    "  client_id='Your Client ID',\n",
    "  client_secret='Your Client Secret',\n",
    "  access_token='Your Access Token',\n",
    ")\n",
    "# create a client based on authentication\n",
    "O2_client = Client(oauth)"
   ]
  },
  {
   "cell_type": "code",
   "execution_count": null,
   "metadata": {},
   "outputs": [],
   "source": [
    "# search files based on key string and other options\n",
    "# returned result is iterable with a structure like linkednode\n",
    "# returned result will be a node start with found results and linked to other non-matching files. \n",
    "# Need to add a break step to teminate the looping\n",
    "keystr = 'keystr'\n",
    "items = O2_client.search().query(query=keystr, limit=10, file_extensions=['png'])\n",
    "IDs = []\n",
    "for item in items:\n",
    "    if keystr in item.name:\n",
    "        IDs.append(item)\n",
    "        print(f'The item ID is {item.id} and the item name is {item.name}')\n",
    "    else:\n",
    "        break"
   ]
  },
  {
   "cell_type": "code",
   "execution_count": null,
   "metadata": {},
   "outputs": [],
   "source": [
    "# get download url based on file IDs\n",
    "#download_url = client.file(IDs[0].id).get_download_url()\n",
    "#print(f'The file\\'s download URL is: {download_url}')\n",
    "\n",
    "# download files to your computer\n",
    "for file in IDs:\n",
    "    output_file = open(file.name, 'wb')\n",
    "    O2_client.file(file.id).download_to(output_file)"
   ]
  },
  {
   "cell_type": "markdown",
   "metadata": {},
   "source": [
    "# Developer Token"
   ]
  },
  {
   "cell_type": "markdown",
   "metadata": {},
   "source": [
    "## 1. Create a custom app with Client Credentials Grant\n",
    "<img src=\"./AppSetup/CustomAppwithCCG.PNG\" alt=\"CustomAppwithCCG\" width=\"400\"/>"
   ]
  },
  {
   "cell_type": "markdown",
   "metadata": {},
   "source": [
    "## 2. Retreive user id\n",
    "<img src=\"./AppSetup/UserIDandEnterpriseID.PNG\" alt=\"UserIDandEnterpriseID\" width=\"500\"/>"
   ]
  },
  {
   "cell_type": "markdown",
   "metadata": {},
   "source": [
    "## 3. Setup app scope (enable write for download, enable user token)"
   ]
  },
  {
   "cell_type": "markdown",
   "metadata": {},
   "source": [
    "#### Enable Write Authorization in Application Scopes for Downloading Purpose\n",
    "<img src=\"./AppSetup/ApplicationScopes.PNG\" alt=\"ApplicationScopes\" width=\"900\"/>"
   ]
  },
  {
   "cell_type": "markdown",
   "metadata": {},
   "source": [
    "### Allow User Token (necessary if for Client Credentials Grant)\n",
    "<img src=\"./AppSetup/AdvancedFeatures.PNG\" alt=\"AdvancedFeatures\" width=\"900\"/>"
   ]
  },
  {
   "cell_type": "markdown",
   "metadata": {},
   "source": [
    "## 4. Submit for authorization (re-submit for any change)\n",
    "<img src=\"./AppSetup/SubmitForAuthorization.PNG\" alt=\"SubmitForAuthorization\" width=\"800\"/>"
   ]
  },
  {
   "cell_type": "code",
   "execution_count": null,
   "metadata": {},
   "outputs": [],
   "source": [
    "# Create an authentication based on client id, client secret, user id or enterprise id\n",
    "auth = CCGAuth(\n",
    "  client_id='Your Client ID',\n",
    "  client_secret='Your Client Secret',\n",
    "  user='Your User ID'\n",
    ")\n",
    "# create a client based on authentication\n",
    "CCG_client = Client(auth)"
   ]
  },
  {
   "cell_type": "code",
   "execution_count": null,
   "metadata": {},
   "outputs": [],
   "source": [
    "print(f'Id of the authenticated user is: {CCG_client.user().get().id}')"
   ]
  },
  {
   "cell_type": "code",
   "execution_count": null,
   "metadata": {},
   "outputs": [],
   "source": [
    "# check user token\n",
    "# Generate user access tokens must be enabled to have a token granted\n",
    "# A valid token is necessary to query and download \n",
    "CCG_client.auth._get_tokens()"
   ]
  },
  {
   "cell_type": "code",
   "execution_count": null,
   "metadata": {},
   "outputs": [],
   "source": [
    "# search files based on key string and other options\n",
    "# returned result is iterable with a structure like linkednode\n",
    "# returned result will be a node start with found results and linked to other non-matching files. \n",
    "# Need to add a break step to teminate the looping\n",
    "keystr = 'keystr'\n",
    "items = CCG_client.search().query(query=keystr, limit=10, file_extensions=['png'])\n",
    "IDs = []\n",
    "for item in items:\n",
    "    if keystr in item.name:\n",
    "        IDs.append(item)\n",
    "        print(f'The item ID is {item.id} and the item name is {item.name}')\n",
    "    else:\n",
    "        break"
   ]
  },
  {
   "cell_type": "code",
   "execution_count": null,
   "metadata": {},
   "outputs": [],
   "source": [
    "# get download url based on file IDs\n",
    "#download_url = client.file(IDs[0].id).get_download_url()\n",
    "#print(f'The file\\'s download URL is: {download_url}')\n",
    "\n",
    "# download files to your computer\n",
    "for file in IDs:\n",
    "    output_file = open(file.name, 'wb')\n",
    "    CCG_client.file(file.id).download_to(output_file)"
   ]
  }
 ],
 "metadata": {
  "kernelspec": {
   "display_name": "Python 3",
   "language": "python",
   "name": "python3"
  },
  "language_info": {
   "codemirror_mode": {
    "name": "ipython",
    "version": 3
   },
   "file_extension": ".py",
   "mimetype": "text/x-python",
   "name": "python",
   "nbconvert_exporter": "python",
   "pygments_lexer": "ipython3",
   "version": "3.7.4"
  }
 },
 "nbformat": 4,
 "nbformat_minor": 2
}
